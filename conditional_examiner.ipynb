{
 "cells": [
  {
   "cell_type": "code",
   "execution_count": 1,
   "metadata": {},
   "outputs": [],
   "source": [
    "%load_ext autoreload\n",
    "%autoreload 2"
   ]
  },
  {
   "cell_type": "code",
   "execution_count": 2,
   "metadata": {},
   "outputs": [
    {
     "ename": "ModuleNotFoundError",
     "evalue": "No module named 'preprocessing'",
     "output_type": "error",
     "traceback": [
      "\u001b[0;31m---------------------------------------------------------------------------\u001b[0m",
      "\u001b[0;31mModuleNotFoundError\u001b[0m                       Traceback (most recent call last)",
      "Cell \u001b[0;32mIn[2], line 1\u001b[0m\n\u001b[0;32m----> 1\u001b[0m \u001b[38;5;28;01mfrom\u001b[39;00m \u001b[38;5;21;01mpreprocessing\u001b[39;00m\u001b[38;5;21;01m.\u001b[39;00m\u001b[38;5;21;01mpreprocess_ucr\u001b[39;00m \u001b[38;5;28;01mimport\u001b[39;00m UCRDatasetImporter\n\u001b[1;32m      2\u001b[0m \u001b[38;5;28;01mfrom\u001b[39;00m \u001b[38;5;21;01mpreprocessing\u001b[39;00m\u001b[38;5;21;01m.\u001b[39;00m\u001b[38;5;21;01mpreprocess_ucr\u001b[39;00m \u001b[38;5;28;01mimport\u001b[39;00m UCRDataset\n\u001b[1;32m      3\u001b[0m \u001b[38;5;28;01mfrom\u001b[39;00m \u001b[38;5;21;01mpreprocessing\u001b[39;00m\u001b[38;5;21;01m.\u001b[39;00m\u001b[38;5;21;01mpreprocess_ucr\u001b[39;00m \u001b[38;5;28;01mimport\u001b[39;00m AugUCRDataset\n",
      "\u001b[0;31mModuleNotFoundError\u001b[0m: No module named 'preprocessing'"
     ]
    }
   ],
   "source": [
    "from preprocessing.preprocess_ucr import UCRDatasetImporter\n",
    "from preprocessing.preprocess_ucr import UCRDataset\n",
    "from preprocessing.preprocess_ucr import AugUCRDataset\n",
    "from preprocessing.data_pipeline import build_data_pipeline\n",
    "from utils import (\n",
    "    load_yaml_param_settings,\n",
    "    get_root_dir,\n",
    "    model_filename,\n",
    ")\n",
    "from examine_data import Examiner\n",
    "import matplotlib.pyplot as plt\n",
    "import numpy as np"
   ]
  },
  {
   "cell_type": "code",
   "execution_count": null,
   "metadata": {},
   "outputs": [],
   "source": [
    "# ['SonyAIBORobotSurface1', 'SonyAIBORobotSurface2', 'Symbols','Mallat']\n",
    "UCR_SUBSET = [\n",
    "    \"ElectricDevices\",\n",
    "    \"StarLightCurves\",\n",
    "    \"Wafer\",\n",
    "    \"ECG5000\",\n",
    "    \"TwoPatterns\",\n",
    "    \"FordA\",\n",
    "    \"UWaveGestureLibraryAll\",\n",
    "    \"FordB\",\n",
    "    \"ShapesAll\",\n",
    "    'SonyAIBORobotSurface1', \n",
    "    'SonyAIBORobotSurface2', \n",
    "    'Symbols',\n",
    "    'Mallat'\n",
    "]\n",
    "examiner = Examiner(datasets=UCR_SUBSET)"
   ]
  }
 ],
 "metadata": {
  "kernelspec": {
   "display_name": ".venv",
   "language": "python",
   "name": "python3"
  },
  "language_info": {
   "codemirror_mode": {
    "name": "ipython",
    "version": 3
   },
   "file_extension": ".py",
   "mimetype": "text/x-python",
   "name": "python",
   "nbconvert_exporter": "python",
   "pygments_lexer": "ipython3",
   "version": "3.11.4"
  }
 },
 "nbformat": 4,
 "nbformat_minor": 2
}
