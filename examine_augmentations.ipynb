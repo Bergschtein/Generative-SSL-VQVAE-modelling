{
 "cells": [
  {
   "cell_type": "code",
   "execution_count": 1,
   "metadata": {},
   "outputs": [],
   "source": [
    "%load_ext autoreload\n",
    "%autoreload \n",
    "\n",
    "from preprocessing.preprocess_ucr import UCRDatasetImporter\n",
    "from preprocessing.preprocess_ucr import UCRDataset\n",
    "from preprocessing.preprocess_ucr import AugUCRDataset\n",
    "from preprocessing.data_pipeline import build_data_pipeline\n",
    "from utils import load_yaml_param_settings\n",
    "\n",
    "from utils import time_to_timefreq, timefreq_to_time\n",
    "from preprocessing.augmentations import TimeFreqAugmenter, Augmenter\n",
    "import numpy as np\n",
    "import torch\n",
    "import matplotlib.pyplot as plt\n",
    "from scipy.ndimage import rotate\n",
    "import torch.nn.functional as F\n",
    "import math"
   ]
  },
  {
   "cell_type": "code",
   "execution_count": 2,
   "metadata": {},
   "outputs": [
    {
     "name": "stdout",
     "output_type": "stream",
     "text": [
      "self.X_train.shape: (896, 945)\n",
      "self.X_test.shape: (3582, 945)\n",
      "# unique labels (train): [0 1 2 3 4 5 6 7]\n",
      "# unique labels (test): [0 1 2 3 4 5 6 7]\n"
     ]
    }
   ],
   "source": [
    "config = load_yaml_param_settings(\"configs/config.yaml\")\n",
    "\n",
    "config['dataset']['dataset_name'] = 'UWaveGestureLibraryAll'\n",
    "config[\"VQVAE\"][\"n_fft\"] = 8\n",
    "\n",
    "# data pipeline\n",
    "dataset_importer = UCRDatasetImporter(**config[\"dataset\"])\n",
    "batch_size = config[\"dataset\"][\"batch_sizes\"][\"stage1\"]\n",
    "train_data_loader_aug = build_data_pipeline(\n",
    "    batch_size, dataset_importer, config, \"train\", augment=True\n",
    ")\n",
    "train_data_loader = build_data_pipeline(\n",
    "    batch_size, dataset_importer, config, \"train\", augment=False\n",
    ")\n",
    "\n",
    "test_data_loader = build_data_pipeline(batch_size, dataset_importer, config, \"test\")\n",
    "\n",
    "augmenter = TimeFreqAugmenter(**config[\"augmentations\"][\"aug_params\"])"
   ]
  },
  {
   "cell_type": "code",
   "execution_count": 3,
   "metadata": {},
   "outputs": [],
   "source": [
    "for batch in train_data_loader_aug:\n",
    "    x_batch, y = batch\n",
    "    break"
   ]
  },
  {
   "cell_type": "code",
   "execution_count": 4,
   "metadata": {},
   "outputs": [],
   "source": [
    "from utils import time_to_timefreq, timefreq_to_time\n"
   ]
  },
  {
   "cell_type": "code",
   "execution_count": 5,
   "metadata": {},
   "outputs": [
    {
     "ename": "NameError",
     "evalue": "name 'encoder' is not defined",
     "output_type": "error",
     "traceback": [
      "\u001b[0;31m---------------------------------------------------------------------------\u001b[0m",
      "\u001b[0;31mNameError\u001b[0m                                 Traceback (most recent call last)",
      "Cell \u001b[0;32mIn[5], line 5\u001b[0m\n\u001b[1;32m      3\u001b[0m u \u001b[38;5;241m=\u001b[39m time_to_timefreq(x, config[\u001b[38;5;124m\"\u001b[39m\u001b[38;5;124mVQVAE\u001b[39m\u001b[38;5;124m\"\u001b[39m][\u001b[38;5;124m\"\u001b[39m\u001b[38;5;124mn_fft\u001b[39m\u001b[38;5;124m\"\u001b[39m], x\u001b[38;5;241m.\u001b[39mshape[\u001b[38;5;241m1\u001b[39m])\n\u001b[1;32m      4\u001b[0m u_aug \u001b[38;5;241m=\u001b[39m time_to_timefreq(xaug, config[\u001b[38;5;124m\"\u001b[39m\u001b[38;5;124mVQVAE\u001b[39m\u001b[38;5;124m\"\u001b[39m][\u001b[38;5;124m\"\u001b[39m\u001b[38;5;124mn_fft\u001b[39m\u001b[38;5;124m\"\u001b[39m], x\u001b[38;5;241m.\u001b[39mshape[\u001b[38;5;241m1\u001b[39m])\n\u001b[0;32m----> 5\u001b[0m z_1 \u001b[38;5;241m=\u001b[39m \u001b[43mencoder\u001b[49m(u)\n\u001b[1;32m      6\u001b[0m z_2 \u001b[38;5;241m=\u001b[39m encoder(u_aug)\n",
      "\u001b[0;31mNameError\u001b[0m: name 'encoder' is not defined"
     ]
    }
   ],
   "source": [
    "x, xaug = x_batch\n",
    "\n",
    "u = time_to_timefreq(x, config[\"VQVAE\"][\"n_fft\"], x.shape[1])\n",
    "u_aug = time_to_timefreq(xaug, config[\"VQVAE\"][\"n_fft\"], x.shape[1])\n",
    "# z_1 = encoder(u)\n",
    "# z_2 = encoder(u_aug)"
   ]
  },
  {
   "cell_type": "code",
   "execution_count": 6,
   "metadata": {},
   "outputs": [
    {
     "name": "stdout",
     "output_type": "stream",
     "text": [
      "torch.Size([128, 1, 945])\n"
     ]
    }
   ],
   "source": [
    "print(x.shape)"
   ]
  },
  {
   "cell_type": "code",
   "execution_count": 7,
   "metadata": {},
   "outputs": [],
   "source": [
    "def random_crop(*subx_views):\n",
    "    \"\"\"\n",
    "    Apply random cropping to input sequences based on self.window_ratio.\n",
    "\n",
    "    Parameters:\n",
    "    - subx_views: Variable number of input sequences (batch_size, channels, subseq_len).\n",
    "\n",
    "    Returns:\n",
    "    - cropped_views: List of cropped sequences.\n",
    "    \"\"\"\n",
    "\n",
    "    cropped_views = []\n",
    "    for subx in subx_views:\n",
    "        subseq_len = subx.shape[-1]\n",
    "        crop_size = int(0.5 * subseq_len)  # Calculate crop size based on self.window_ratio\n",
    "        start_idx = np.random.randint(0, subseq_len - crop_size + 1)  # Generate a random start index for the crop\n",
    "        cropped_view = subx[:, :, start_idx:start_idx + crop_size]  # Use slicing to crop the subx_view\n",
    "\n",
    "        cropped_views.append(cropped_view)\n",
    "\n",
    "    if len(cropped_views) == 1:\n",
    "        cropped_views = cropped_views[0]\n",
    "\n",
    "    return cropped_views\n",
    "\n",
    "def random_crop(self, *x_views):\n",
    "    subx_views = []\n",
    "    rand_ts = []\n",
    "    subseq_len = 10\n",
    "    for i in range(len(x_views)):\n",
    "        seq_len = x_views[i].shape[-1]\n",
    "        rand_t = np.random.randint(0, seq_len - subseq_len + 1, size=1)[0]\n",
    "        subx = x_views[i][:, rand_t: rand_t + subseq_len]  # (subseq_len)\n",
    "        subx_views.append(subx)\n",
    "        rand_ts.append(rand_t)\n",
    "\n",
    "    if len(subx_views) == 1:\n",
    "        subx_views = subx_views[0]\n",
    "    return subx_views"
   ]
  },
  {
   "cell_type": "code",
   "execution_count": 8,
   "metadata": {},
   "outputs": [
    {
     "ename": "AttributeError",
     "evalue": "'int' object has no attribute 'shape'",
     "output_type": "error",
     "traceback": [
      "\u001b[0;31m---------------------------------------------------------------------------\u001b[0m",
      "\u001b[0;31mAttributeError\u001b[0m                            Traceback (most recent call last)",
      "Cell \u001b[0;32mIn[8], line 1\u001b[0m\n\u001b[0;32m----> 1\u001b[0m xaug \u001b[38;5;241m=\u001b[39m \u001b[43mrandom_crop\u001b[49m\u001b[43m(\u001b[49m\u001b[43mxaug\u001b[49m\u001b[43m,\u001b[49m\u001b[43m \u001b[49m\u001b[38;5;241;43m10\u001b[39;49m\u001b[43m)\u001b[49m\n\u001b[1;32m      2\u001b[0m plt\u001b[38;5;241m.\u001b[39mplot(x[\u001b[38;5;241m0\u001b[39m, \u001b[38;5;241m0\u001b[39m])\n\u001b[1;32m      3\u001b[0m plt\u001b[38;5;241m.\u001b[39mplot(xaug[\u001b[38;5;241m0\u001b[39m, \u001b[38;5;241m0\u001b[39m])\n",
      "Cell \u001b[0;32mIn[7], line 31\u001b[0m, in \u001b[0;36mrandom_crop\u001b[0;34m(self, *x_views)\u001b[0m\n\u001b[1;32m     29\u001b[0m subseq_len \u001b[38;5;241m=\u001b[39m \u001b[38;5;241m10\u001b[39m\n\u001b[1;32m     30\u001b[0m \u001b[38;5;28;01mfor\u001b[39;00m i \u001b[38;5;129;01min\u001b[39;00m \u001b[38;5;28mrange\u001b[39m(\u001b[38;5;28mlen\u001b[39m(x_views)):\n\u001b[0;32m---> 31\u001b[0m     seq_len \u001b[38;5;241m=\u001b[39m \u001b[43mx_views\u001b[49m\u001b[43m[\u001b[49m\u001b[43mi\u001b[49m\u001b[43m]\u001b[49m\u001b[38;5;241;43m.\u001b[39;49m\u001b[43mshape\u001b[49m[\u001b[38;5;241m-\u001b[39m\u001b[38;5;241m1\u001b[39m]\n\u001b[1;32m     32\u001b[0m     rand_t \u001b[38;5;241m=\u001b[39m np\u001b[38;5;241m.\u001b[39mrandom\u001b[38;5;241m.\u001b[39mrandint(\u001b[38;5;241m0\u001b[39m, seq_len \u001b[38;5;241m-\u001b[39m subseq_len \u001b[38;5;241m+\u001b[39m \u001b[38;5;241m1\u001b[39m, size\u001b[38;5;241m=\u001b[39m\u001b[38;5;241m1\u001b[39m)[\u001b[38;5;241m0\u001b[39m]\n\u001b[1;32m     33\u001b[0m     subx \u001b[38;5;241m=\u001b[39m x_views[i][:, rand_t: rand_t \u001b[38;5;241m+\u001b[39m subseq_len]  \u001b[38;5;66;03m# (subseq_len)\u001b[39;00m\n",
      "\u001b[0;31mAttributeError\u001b[0m: 'int' object has no attribute 'shape'"
     ]
    }
   ],
   "source": [
    "\n",
    "\n",
    "xaug = random_crop(xaug, 10)\n",
    "plt.plot(x[0, 0])\n",
    "plt.plot(xaug[0, 0])\n"
   ]
  },
  {
   "cell_type": "code",
   "execution_count": 9,
   "metadata": {},
   "outputs": [],
   "source": [
    "def random_crop(self, subseq_len: int, *x_views):\n",
    "    subx_views = []\n",
    "    rand_ts = []\n",
    "    for i in range(len(x_views)):\n",
    "        seq_len = x_views[i].shape[-1]\n",
    "        rand_t = np.random.randint(0, seq_len - subseq_len + 1, size=1)[0]\n",
    "        subx = x_views[i][:, rand_t: rand_t + subseq_len]  # (subseq_len)\n",
    "        subx_views.append(subx)\n",
    "        rand_ts.append(rand_t)\n",
    "\n",
    "    if len(subx_views) == 1:\n",
    "        subx_views = subx_views[0]\n",
    "    return subx_views"
   ]
  },
  {
   "cell_type": "code",
   "execution_count": 10,
   "metadata": {},
   "outputs": [
    {
     "ename": "TypeError",
     "evalue": "list indices must be integers or slices, not tuple",
     "output_type": "error",
     "traceback": [
      "\u001b[0;31m---------------------------------------------------------------------------\u001b[0m",
      "\u001b[0;31mTypeError\u001b[0m                                 Traceback (most recent call last)",
      "Cell \u001b[0;32mIn[10], line 10\u001b[0m\n\u001b[1;32m      8\u001b[0m plt\u001b[38;5;241m.\u001b[39mplot(x[\u001b[38;5;241m0\u001b[39m, \u001b[38;5;241m0\u001b[39m])\n\u001b[1;32m      9\u001b[0m plt\u001b[38;5;241m.\u001b[39mplot(xaug[\u001b[38;5;241m0\u001b[39m, \u001b[38;5;241m0\u001b[39m])\n\u001b[0;32m---> 10\u001b[0m plt\u001b[38;5;241m.\u001b[39mplot(\u001b[43mxaug_cropped\u001b[49m\u001b[43m[\u001b[49m\u001b[38;5;241;43m0\u001b[39;49m\u001b[43m,\u001b[49m\u001b[43m \u001b[49m\u001b[38;5;241;43m0\u001b[39;49m\u001b[43m]\u001b[49m)\n\u001b[1;32m     12\u001b[0m u1 \u001b[38;5;241m=\u001b[39m time_to_timefreq(x, config[\u001b[38;5;124m\"\u001b[39m\u001b[38;5;124mVQVAE\u001b[39m\u001b[38;5;124m\"\u001b[39m][\u001b[38;5;124m\"\u001b[39m\u001b[38;5;124mn_fft\u001b[39m\u001b[38;5;124m\"\u001b[39m], x\u001b[38;5;241m.\u001b[39mshape[\u001b[38;5;241m1\u001b[39m])\n\u001b[1;32m     13\u001b[0m uaug \u001b[38;5;241m=\u001b[39m time_to_timefreq(xaug_cropped, config[\u001b[38;5;124m\"\u001b[39m\u001b[38;5;124mVQVAE\u001b[39m\u001b[38;5;124m\"\u001b[39m][\u001b[38;5;124m\"\u001b[39m\u001b[38;5;124mn_fft\u001b[39m\u001b[38;5;124m\"\u001b[39m], x\u001b[38;5;241m.\u001b[39mshape[\u001b[38;5;241m1\u001b[39m])\n",
      "\u001b[0;31mTypeError\u001b[0m: list indices must be integers or slices, not tuple"
     ]
    },
    {
     "data": {
      "image/png": "[encoded data removed]",
      "text/plain": [
       "<Figure size 640x480 with 1 Axes>"
      ]
     },
     "metadata": {},
     "output_type": "display_data"
    }
   ],
   "source": [
    "for batch in train_data_loader_aug:\n",
    "    x_batch, y = batch\n",
    "    break\n",
    "\n",
    "x, xaug = x_batch\n",
    "xaug_cropped = random_crop(xaug, 10)\n",
    "\n",
    "plt.plot(x[0, 0])\n",
    "plt.plot(xaug[0, 0])\n",
    "plt.plot(xaug_cropped[0, 0])\n",
    "\n",
    "u1 = time_to_timefreq(x, config[\"VQVAE\"][\"n_fft\"], x.shape[1])\n",
    "uaug = time_to_timefreq(xaug_cropped, config[\"VQVAE\"][\"n_fft\"], x.shape[1])\n",
    "\n",
    "# z1 = encoder(u1)\n",
    "# z2 = encoder(uaug)\n",
    "\n",
    "\n",
    "\n"
   ]
  },
  {
   "cell_type": "code",
   "execution_count": 14,
   "metadata": {},
   "outputs": [
    {
     "ename": "AssertionError",
     "evalue": "stage1 ssl method needs to be empty",
     "output_type": "error",
     "traceback": [
      "\u001b[0;31m---------------------------------------------------------------------------\u001b[0m",
      "\u001b[0;31mAssertionError\u001b[0m                            Traceback (most recent call last)",
      "Cell \u001b[0;32mIn[14], line 5\u001b[0m\n\u001b[1;32m      1\u001b[0m \u001b[38;5;28;01mfrom\u001b[39;00m \u001b[38;5;21;01mexperiments\u001b[39;00m\u001b[38;5;21;01m.\u001b[39;00m\u001b[38;5;21;01mexp_vqvae\u001b[39;00m \u001b[38;5;28;01mimport\u001b[39;00m Exp_VQVAE\n\u001b[1;32m      3\u001b[0m input_length \u001b[38;5;241m=\u001b[39m train_data_loader\u001b[38;5;241m.\u001b[39mdataset\u001b[38;5;241m.\u001b[39mX\u001b[38;5;241m.\u001b[39mshape[\u001b[38;5;241m-\u001b[39m\u001b[38;5;241m1\u001b[39m]\n\u001b[0;32m----> 5\u001b[0m train_exp \u001b[38;5;241m=\u001b[39m \u001b[43mExp_VQVAE\u001b[49m\u001b[43m(\u001b[49m\n\u001b[1;32m      6\u001b[0m \u001b[43m    \u001b[49m\u001b[43minput_length\u001b[49m\u001b[43m,\u001b[49m\n\u001b[1;32m      7\u001b[0m \u001b[43m    \u001b[49m\u001b[43mconfig\u001b[49m\u001b[38;5;241;43m=\u001b[39;49m\u001b[43mconfig\u001b[49m\u001b[43m,\u001b[49m\n\u001b[1;32m      8\u001b[0m \u001b[43m    \u001b[49m\u001b[43mn_train_samples\u001b[49m\u001b[38;5;241;43m=\u001b[39;49m\u001b[38;5;28;43mlen\u001b[39;49m\u001b[43m(\u001b[49m\u001b[43mtrain_data_loader\u001b[49m\u001b[38;5;241;43m.\u001b[39;49m\u001b[43mdataset\u001b[49m\u001b[43m)\u001b[49m\u001b[43m,\u001b[49m\n\u001b[1;32m      9\u001b[0m \u001b[43m    \u001b[49m\u001b[43mtrain_data_loader\u001b[49m\u001b[38;5;241;43m=\u001b[39;49m\u001b[43mtrain_data_loader\u001b[49m\u001b[43m,\u001b[49m\n\u001b[1;32m     10\u001b[0m \u001b[43m    \u001b[49m\u001b[43mtest_data_loader\u001b[49m\u001b[38;5;241;43m=\u001b[39;49m\u001b[43mtest_data_loader\u001b[49m\u001b[43m,\u001b[49m\n\u001b[1;32m     11\u001b[0m \u001b[43m)\u001b[49m\n\u001b[1;32m     12\u001b[0m encoder \u001b[38;5;241m=\u001b[39m train_exp\u001b[38;5;241m.\u001b[39mencoder\n",
      "File \u001b[0;32m~/Desktop/Fag/Matematikk/Master/Generative-SSL-VQVAE-modelling/experiments/exp_vqvae.py:40\u001b[0m, in \u001b[0;36mExp_VQVAE.__init__\u001b[0;34m(self, input_length, config, n_train_samples, train_data_loader, test_data_loader)\u001b[0m\n\u001b[1;32m     31\u001b[0m \u001b[38;5;28;01mdef\u001b[39;00m \u001b[38;5;21m__init__\u001b[39m(\n\u001b[1;32m     32\u001b[0m     \u001b[38;5;28mself\u001b[39m,\n\u001b[1;32m     33\u001b[0m     input_length,\n\u001b[0;32m   (...)\u001b[0m\n\u001b[1;32m     37\u001b[0m     test_data_loader\u001b[38;5;241m=\u001b[39m\u001b[38;5;28;01mNone\u001b[39;00m,\n\u001b[1;32m     38\u001b[0m ):\n\u001b[1;32m     39\u001b[0m     \u001b[38;5;28;01massert\u001b[39;00m (\n\u001b[0;32m---> 40\u001b[0m         config[\u001b[38;5;124m\"\u001b[39m\u001b[38;5;124mSSL\u001b[39m\u001b[38;5;124m\"\u001b[39m][\u001b[38;5;124m\"\u001b[39m\u001b[38;5;124mstage1_method\u001b[39m\u001b[38;5;124m\"\u001b[39m] \u001b[38;5;241m==\u001b[39m \u001b[38;5;124m\"\u001b[39m\u001b[38;5;124m\"\u001b[39m\n\u001b[1;32m     41\u001b[0m     ), \u001b[38;5;124m\"\u001b[39m\u001b[38;5;124mstage1 ssl method needs to be empty\u001b[39m\u001b[38;5;124m\"\u001b[39m\n\u001b[1;32m     43\u001b[0m     \u001b[38;5;28msuper\u001b[39m()\u001b[38;5;241m.\u001b[39m\u001b[38;5;21m__init__\u001b[39m()\n\u001b[1;32m     45\u001b[0m     \u001b[38;5;28mself\u001b[39m\u001b[38;5;241m.\u001b[39mprobe_test_per \u001b[38;5;241m=\u001b[39m config[\u001b[38;5;124m\"\u001b[39m\u001b[38;5;124mVQVAE\u001b[39m\u001b[38;5;124m\"\u001b[39m][\u001b[38;5;124m\"\u001b[39m\u001b[38;5;124mprobe_test_per\u001b[39m\u001b[38;5;124m\"\u001b[39m]\n",
      "\u001b[0;31mAssertionError\u001b[0m: stage1 ssl method needs to be empty"
     ]
    }
   ],
   "source": [
    "from experiments.exp_vqvae import Exp_VQVAE\n",
    "\n",
    "input_length = train_data_loader.dataset.X.shape[-1]\n",
    "\n",
    "train_exp = Exp_VQVAE(\n",
    "    input_length,\n",
    "    config=config,\n",
    "    n_train_samples=len(train_data_loader.dataset),\n",
    "    train_data_loader=train_data_loader,\n",
    "    test_data_loader=test_data_loader,\n",
    ")\n",
    "encoder = train_exp.encoder"
   ]
  },
  {
   "cell_type": "code",
   "execution_count": 67,
   "metadata": {},
   "outputs": [],
   "source": [
    "def get_x_u():\n",
    "    X = torch.tensor(train_data_loader.dataset.X)\n",
    "    x = X[np.random.randint(0, X.shape[0])]\n",
    "    return x, augmenter.stft(x)\n",
    "\n"
   ]
  },
  {
   "cell_type": "code",
   "execution_count": 47,
   "metadata": {},
   "outputs": [],
   "source": []
  },
  {
   "cell_type": "code",
   "execution_count": 12,
   "metadata": {},
   "outputs": [
    {
     "ename": "NameError",
     "evalue": "name 'get_x_u' is not defined",
     "output_type": "error",
     "traceback": [
      "\u001b[0;31m---------------------------------------------------------------------------\u001b[0m",
      "\u001b[0;31mNameError\u001b[0m                                 Traceback (most recent call last)",
      "Cell \u001b[0;32mIn[12], line 7\u001b[0m\n\u001b[1;32m      1\u001b[0m config \u001b[38;5;241m=\u001b[39m load_yaml_param_settings(\u001b[38;5;124m\"\u001b[39m\u001b[38;5;124mconfigs/config.yaml\u001b[39m\u001b[38;5;124m\"\u001b[39m)\n\u001b[1;32m      4\u001b[0m aug \u001b[38;5;241m=\u001b[39m Augmenter(\u001b[38;5;241m*\u001b[39m\u001b[38;5;241m*\u001b[39mconfig[\u001b[38;5;124m\"\u001b[39m\u001b[38;5;124maugmentations\u001b[39m\u001b[38;5;124m\"\u001b[39m])\n\u001b[0;32m----> 7\u001b[0m x, _ \u001b[38;5;241m=\u001b[39m \u001b[43mget_x_u\u001b[49m()\n\u001b[1;32m      8\u001b[0m xaug \u001b[38;5;241m=\u001b[39m aug\u001b[38;5;241m.\u001b[39maugment(x)\n\u001b[1;32m      9\u001b[0m plt\u001b[38;5;241m.\u001b[39mplot(x, label\u001b[38;5;241m=\u001b[39m\u001b[38;5;124m\"\u001b[39m\u001b[38;5;124moriginal\u001b[39m\u001b[38;5;124m\"\u001b[39m)\n",
      "\u001b[0;31mNameError\u001b[0m: name 'get_x_u' is not defined"
     ]
    }
   ],
   "source": [
    "\n",
    "config = load_yaml_param_settings(\"configs/config.yaml\")\n",
    "\n",
    "\n",
    "aug = Augmenter(**config[\"augmentations\"])\n",
    "\n",
    "\n",
    "x, _ = get_x_u()\n",
    "xaug = aug.augment(x)\n",
    "plt.plot(x, label=\"original\")\n",
    "plt.plot(xaug, label=\"augmented\")  # Include the augmented signal in the plot\n",
    "plt.legend()\n",
    "plt.show()#plot the original and augmented signals"
   ]
  },
  {
   "cell_type": "code",
   "execution_count": null,
   "metadata": {},
   "outputs": [],
   "source": []
  }
 ],
 "metadata": {
  "kernelspec": {
   "display_name": ".venv",
   "language": "python",
   "name": "python3"
  },
  "language_info": {
   "codemirror_mode": {
    "name": "ipython",
    "version": 3
   },
   "file_extension": ".py",
   "mimetype": "text/x-python",
   "name": "python",
   "nbconvert_exporter": "python",
   "pygments_lexer": "ipython3",
   "version": "3.11.4"
  },
  "orig_nbformat": 4
 },
 "nbformat": 4,
 "nbformat_minor": 2
}
