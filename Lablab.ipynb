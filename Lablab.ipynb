{
 "cells": [
  {
   "cell_type": "code",
   "execution_count": 1,
   "metadata": {},
   "outputs": [],
   "source": [
    "import torch\n",
    "from torch import nn\n",
    "from torch.nn import Parameter\n",
    "from torch import relu\n",
    "import torch.nn.functional as F\n",
    "import numpy as np\n",
    "\n",
    "from typing import Union, Tuple, List, Optional\n",
    "from torch import Tensor\n"
   ]
  },
  {
   "cell_type": "code",
   "execution_count": 3,
   "metadata": {},
   "outputs": [
    {
     "data": {
      "text/plain": [
       "tensor([[0.6311, 0.9110, 0.4161, 0.0150, 0.7657],\n",
       "        [0.8436, 0.0289, 0.4260, 0.5163, 0.0650],\n",
       "        [0.6256, 0.4678, 0.3333, 0.2102, 0.6123],\n",
       "        [0.6423, 0.5985, 0.3095, 0.1311, 0.7163],\n",
       "        [0.2522, 0.3331, 0.5371, 0.3584, 0.0545]])"
      ]
     },
     "execution_count": 3,
     "metadata": {},
     "output_type": "execute_result"
    }
   ],
   "source": [
    "z = torch.rand(5, 5)\n",
    "z"
   ]
  },
  {
   "cell_type": "code",
   "execution_count": 6,
   "metadata": {},
   "outputs": [
    {
     "data": {
      "text/plain": [
       "tensor([[ 7.5044e-02,  6.8036e-01,  6.5233e-02, -5.9005e-01,  4.5603e-01],\n",
       "        [ 5.7079e-01, -6.7390e-01,  1.2000e-01,  6.8932e-01, -5.3353e-01],\n",
       "        [ 6.2118e-02, -1.1493e-04, -3.9576e-01, -9.1914e-02,  2.3952e-01],\n",
       "        [ 1.0106e-01,  2.0048e-01, -5.2821e-01, -2.9367e-01,  3.8637e-01],\n",
       "        [-8.0901e-01, -2.0682e-01,  7.3873e-01,  2.8631e-01, -5.4839e-01]])"
      ]
     },
     "execution_count": 6,
     "metadata": {},
     "output_type": "execute_result"
    }
   ],
   "source": [
    "norm_z = z - z.mean(dim=0)\n",
    "norm_z = F.normalize(norm_z, p=2, dim=0)\n",
    "norm_z"
   ]
  },
  {
   "cell_type": "code",
   "execution_count": 12,
   "metadata": {},
   "outputs": [
    {
     "data": {
      "text/plain": [
       "(tensor([[ 0.0000, -0.1460, -0.6022,  0.0822,  0.2273],\n",
       "         [-0.1460,  0.0000, -0.2951, -0.9841,  0.8607],\n",
       "         [-0.6022, -0.2951,  0.0000,  0.4472, -0.7383],\n",
       "         [ 0.0822, -0.9841,  0.4472,  0.0000, -0.9294],\n",
       "         [ 0.2273,  0.8607, -0.7383, -0.9294,  0.0000]]),\n",
       " tensor([[0.0000, 0.0213, 0.3627, 0.0067, 0.0517],\n",
       "         [0.0213, 0.0000, 0.0871, 0.9684, 0.7407],\n",
       "         [0.3627, 0.0871, 0.0000, 0.2000, 0.5450],\n",
       "         [0.0067, 0.9684, 0.2000, 0.0000, 0.8637],\n",
       "         [0.0517, 0.7407, 0.5450, 0.8637, 0.0000]]),\n",
       " tensor([[ 0.4424,  0.2925, -0.0879, -0.3368,  0.2426],\n",
       "         [ 0.2925,  1.8175, -0.9876, -0.9438,  1.0992],\n",
       "         [-0.0879, -0.9876,  1.1948,  0.9270, -0.8065],\n",
       "         [-0.3368, -0.9438,  0.9270,  2.0388, -1.1585],\n",
       "         [ 0.2426,  1.0992, -0.8065, -1.1585,  2.2011]]))"
      ]
     },
     "execution_count": 12,
     "metadata": {},
     "output_type": "execute_result"
    }
   ],
   "source": [
    "fxf_cov_z = torch.mm(norm_z.T, norm_z)\n",
    "ind = np.diag_indices(fxf_cov_z.shape[0])\n",
    "fxf_cov_z[ind[0], ind[1]] = torch.zeros(fxf_cov_z.shape[0]).to(norm_z.device)\n",
    "\n",
    "fxf_cov_z, fxf_cov_z**2, torch.mm(fxf_cov_z, fxf_cov_z)"
   ]
  },
  {
   "cell_type": "code",
   "execution_count": null,
   "metadata": {},
   "outputs": [],
   "source": [
    "def compute_cov_loss(z: Tensor):\n",
    "    norm_z = z - z.mean(dim=0)\n",
    "    norm_z = F.normalize(norm_z, p=2, dim=0)  # (batch * feature); l2-norm\n",
    "    fxf_cov_z = torch.mm(norm_z.T, norm_z)  # (feature * feature)\n",
    "    ind = np.diag_indices(fxf_cov_z.shape[0])\n",
    "    fxf_cov_z[ind[0], ind[1]] = torch.zeros(fxf_cov_z.shape[0]).to(norm_z.device)\n",
    "    cov_loss = (fxf_cov_z**2).mean()\n",
    "    return cov_loss"
   ]
  },
  {
   "cell_type": "code",
   "execution_count": 23,
   "metadata": {},
   "outputs": [
    {
     "name": "stderr",
     "output_type": "stream",
     "text": [
      "/var/folders/tz/7b83mvms205g7153tt6m1lnr0000gn/T/ipykernel_15430/1168505905.py:8: RuntimeWarning: covariance is not symmetric positive-semidefinite.\n",
      "  data = np.random.multivariate_normal(mean, covariance_matrix, 1000)\n"
     ]
    },
    {
     "data": {
      "image/png": "[encoded data removed]",
      "text/plain": [
       "<Figure size 800x600 with 1 Axes>"
      ]
     },
     "metadata": {},
     "output_type": "display_data"
    }
   ],
   "source": [
    "import numpy as np\n",
    "import matplotlib.pyplot as plt\n",
    "\n",
    "# Generate random data\n",
    "np.random.seed(0)\n",
    "mean = np.zeros(10)\n",
    "covariance_matrix = np.random.rand(10, 10)  # Random covariance matrix for illustration\n",
    "data = np.random.multivariate_normal(mean, covariance_matrix, 1000)\n",
    "\n",
    "# Calculate covariance matrix\n",
    "cov_matrix = np.cov(data, rowvar=False)\n",
    "\n",
    "\n",
    "# Plot covariance matrix\n",
    "plt.figure(figsize=(8, 6))\n",
    "plt.imshow(cov_matrix, cmap='gray', origin='upper')\n",
    "# plt.colorbar(label='Covariance')\n",
    "# plt.title('10x10 Covariance Matrix')\n",
    "# plt.xlabel('Variables')\n",
    "# plt.ylabel('Variables')\n",
    "plt.show()"
   ]
  },
  {
   "cell_type": "code",
   "execution_count": 24,
   "metadata": {},
   "outputs": [
    {
     "data": {
      "image/png": "[encoded data removed]",
      "text/plain": [
       "<Figure size 800x600 with 1 Axes>"
      ]
     },
     "metadata": {},
     "output_type": "display_data"
    }
   ],
   "source": [
    "identity_matrix = np.eye(10)\n",
    "plt.figure(figsize=(8, 6))\n",
    "plt.imshow(identity_matrix, cmap='gray', origin='upper')\n",
    "# plt.colorbar(label='Covariance')\n",
    "# plt.title('10x10 Covariance Matrix')\n",
    "# plt.xlabel('Variables')\n",
    "# plt.ylabel('Variables')\n",
    "plt.show()"
   ]
  }
 ],
 "metadata": {
  "kernelspec": {
   "display_name": ".venv",
   "language": "python",
   "name": "python3"
  },
  "language_info": {
   "codemirror_mode": {
    "name": "ipython",
    "version": 3
   },
   "file_extension": ".py",
   "mimetype": "text/x-python",
   "name": "python",
   "nbconvert_exporter": "python",
   "pygments_lexer": "ipython3",
   "version": "3.11.4"
  }
 },
 "nbformat": 4,
 "nbformat_minor": 2
}
