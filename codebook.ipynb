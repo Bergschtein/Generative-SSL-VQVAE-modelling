{
 "cells": [
  {
   "cell_type": "code",
   "execution_count": 171,
   "metadata": {},
   "outputs": [],
   "source": [
    "from models.stage2.transformers import BidirectionalTransformer\n",
    "from models.stage1.encoder_decoder import VQVAEEncoder, VQVAEDecoder\n",
    "from models.stage1.vq import VectorQuantize\n"
   ]
  },
  {
   "cell_type": "code",
   "execution_count": 172,
   "metadata": {},
   "outputs": [],
   "source": [
    "import torch\n",
    "import numpy as np\n",
    "from preprocessing.data_pipeline import build_data_pipeline\n",
    "\n",
    "from preprocessing.preprocess_ucr import UCRDatasetImporter\n",
    "from pathlib import Path\n",
    "\n",
    "from models.stage2.sample import unconditional_sample, conditional_sample\n",
    "\n",
    "# from evaluation.evaluation import Evaluation\n",
    "from utils import get_root_dir, load_yaml_param_settings, save_model\n",
    "from models.stage2.maskgit import MaskGIT\n",
    "import os\n",
    "import tempfile\n",
    "from evaluation.model_eval import Evaluation\n",
    "import matplotlib.pyplot as plt\n"
   ]
  },
  {
   "cell_type": "code",
   "execution_count": 173,
   "metadata": {},
   "outputs": [
    {
     "name": "stdout",
     "output_type": "stream",
     "text": [
      "self.X_train.shape: (1000, 1024)\n",
      "self.X_test.shape: (8236, 1024)\n",
      "# unique labels (train): [0 1 2]\n",
      "# unique labels (test): [0 1 2]\n"
     ]
    }
   ],
   "source": [
    "config_dir = \"configs/config.yaml\"\n",
    "config = load_yaml_param_settings(config_dir)\n",
    "dataset_name = config[\"dataset\"][\"dataset_name\"]\n",
    "\n",
    "dataset_importer = UCRDatasetImporter(**config[\"dataset\"])\n",
    "batch_size = config[\"dataset\"][\"batch_sizes\"][\"stage2\"]\n",
    "train_data_loader, test_data_loader = [\n",
    "    build_data_pipeline(batch_size, dataset_importer, config, kind)\n",
    "    for kind in [\"train\", \"test\"]\n",
    "]\n",
    "\n",
    "input_length = train_data_loader.dataset.X.shape[-1]\n",
    "n_classes = len(np.unique(train_data_loader.dataset.Y.flatten()))\n",
    "device = torch.device(\"cuda\" if torch.cuda.is_available() else \"cpu\")\n",
    "\n",
    "\n",
    "dim = config[\"encoder\"][\"dim\"]\n",
    "in_channels = config[\"dataset\"][\"in_channels\"]\n",
    "downsampled_width = config[\"encoder\"][\"downsampled_width\"]\n",
    "n_fft = config[\"VQVAE\"][\"n_fft\"]\n",
    "\n",
    "downsample_rate = 1\n",
    "\n"
   ]
  },
  {
   "cell_type": "code",
   "execution_count": 182,
   "metadata": {},
   "outputs": [
    {
     "data": {
      "text/plain": [
       "(1000, 1024)"
      ]
     },
     "execution_count": 182,
     "metadata": {},
     "output_type": "execute_result"
    }
   ],
   "source": [
    "dataset_importer.X_train.shape"
   ]
  },
  {
   "cell_type": "code",
   "execution_count": 183,
   "metadata": {},
   "outputs": [],
   "source": [
    "X_train = dataset_importer.X_train[:, None, :]\n",
    "X_test = dataset_importer.X_test[:, None, :]"
   ]
  },
  {
   "cell_type": "code",
   "execution_count": 184,
   "metadata": {},
   "outputs": [
    {
     "data": {
      "text/plain": [
       "(1000, 1, 1024)"
      ]
     },
     "execution_count": 184,
     "metadata": {},
     "output_type": "execute_result"
    }
   ],
   "source": [
    "X_train.shape"
   ]
  },
  {
   "cell_type": "code",
   "execution_count": 108,
   "metadata": {},
   "outputs": [
    {
     "name": "stdout",
     "output_type": "stream",
     "text": [
      "1\n",
      "1\n"
     ]
    }
   ],
   "source": [
    "# encoder = VQVAEEncoder(\n",
    "#     dim, 2 * in_channels, downsample_rate, config[\"encoder\"][\"n_resnet_blocks\"]\n",
    "# )\n",
    "# decoder = VQVAEDecoder(\n",
    "#     dim, 2 * in_channels, downsample_rate, config[\"decoder\"][\"n_resnet_blocks\"]\n",
    "# )\n",
    "# vq_model = VectorQuantize(\n",
    "#     dim, config[\"VQVAE\"][\"codebook\"][\"size\"], **config[\"VQVAE\"]\n",
    "# )\n",
    "# vq_model1 = VectorQuantize(\n",
    "#     dim, config[\"VQVAE\"][\"codebook\"][\"size\"], **config[\"VQVAE\"]\n",
    "# )"
   ]
  },
  {
   "cell_type": "code",
   "execution_count": 156,
   "metadata": {},
   "outputs": [],
   "source": [
    "import numpy as np\n",
    "\n",
    "x = torch.rand(1, 2, 4, 128)  # (batch, channels, height, width)\n",
    "\n",
    "encoder = VQVAEEncoder(d=64, num_channels=2, downsample_rate=4, n_resnet_blocks=2)\n",
    "decoder = VQVAEDecoder(d=64, num_channels=2, downsample_rate=4, n_resnet_blocks=2)\n",
    "decoder.upsample_size = torch.IntTensor(np.array(x.shape[2:]))\n",
    "\n",
    "# z = encoder(x)\n",
    "# x_recons = decoder(z)\n",
    "\n",
    "# print('x.shape:', x.shape)\n",
    "# print('z.shape:', z.shape)\n",
    "# print('x_recons.shape:', x_recons.shape)"
   ]
  },
  {
   "cell_type": "code",
   "execution_count": 157,
   "metadata": {},
   "outputs": [
    {
     "name": "stdout",
     "output_type": "stream",
     "text": [
      "Model's state_dict:\n",
      "num_tokens \t torch.Size([1])\n",
      "H_prime \t torch.Size([1])\n",
      "W_prime \t torch.Size([1])\n",
      "encoder.0.block.0.weight \t torch.Size([64, 2, 3, 4])\n",
      "encoder.0.block.0.bias \t torch.Size([64])\n",
      "encoder.0.block.1.weight \t torch.Size([64])\n",
      "encoder.0.block.1.bias \t torch.Size([64])\n",
      "encoder.0.block.1.running_mean \t torch.Size([64])\n",
      "encoder.0.block.1.running_var \t torch.Size([64])\n",
      "encoder.0.block.1.num_batches_tracked \t torch.Size([])\n",
      "encoder.1.block.0.weight \t torch.Size([64, 64, 3, 4])\n",
      "encoder.1.block.0.bias \t torch.Size([64])\n",
      "encoder.1.block.1.weight \t torch.Size([64])\n",
      "encoder.1.block.1.bias \t torch.Size([64])\n",
      "encoder.1.block.1.running_mean \t torch.Size([64])\n",
      "encoder.1.block.1.running_var \t torch.Size([64])\n",
      "encoder.1.block.1.num_batches_tracked \t torch.Size([])\n",
      "encoder.2.0.convs.1.weight \t torch.Size([64, 64, 3, 3])\n",
      "encoder.2.0.convs.1.bias \t torch.Size([64])\n",
      "encoder.2.0.convs.2.weight \t torch.Size([64])\n",
      "encoder.2.0.convs.2.bias \t torch.Size([64])\n",
      "encoder.2.0.convs.2.running_mean \t torch.Size([64])\n",
      "encoder.2.0.convs.2.running_var \t torch.Size([64])\n",
      "encoder.2.0.convs.2.num_batches_tracked \t torch.Size([])\n",
      "encoder.2.0.convs.5.weight \t torch.Size([64, 64, 1, 1])\n",
      "encoder.2.0.convs.5.bias \t torch.Size([64])\n",
      "encoder.2.1.weight \t torch.Size([64])\n",
      "encoder.2.1.bias \t torch.Size([64])\n",
      "encoder.2.1.running_mean \t torch.Size([64])\n",
      "encoder.2.1.running_var \t torch.Size([64])\n",
      "encoder.2.1.num_batches_tracked \t torch.Size([])\n",
      "encoder.3.0.convs.1.weight \t torch.Size([64, 64, 3, 3])\n",
      "encoder.3.0.convs.1.bias \t torch.Size([64])\n",
      "encoder.3.0.convs.2.weight \t torch.Size([64])\n",
      "encoder.3.0.convs.2.bias \t torch.Size([64])\n",
      "encoder.3.0.convs.2.running_mean \t torch.Size([64])\n",
      "encoder.3.0.convs.2.running_var \t torch.Size([64])\n",
      "encoder.3.0.convs.2.num_batches_tracked \t torch.Size([])\n",
      "encoder.3.0.convs.5.weight \t torch.Size([64, 64, 1, 1])\n",
      "encoder.3.0.convs.5.bias \t torch.Size([64])\n",
      "encoder.3.1.weight \t torch.Size([64])\n",
      "encoder.3.1.bias \t torch.Size([64])\n",
      "encoder.3.1.running_mean \t torch.Size([64])\n",
      "encoder.3.1.running_var \t torch.Size([64])\n",
      "encoder.3.1.num_batches_tracked \t torch.Size([])\n",
      "\n"
     ]
    }
   ],
   "source": [
    "# Print model's state_dict\n",
    "print(\"Model's state_dict:\")\n",
    "for param_tensor in encoder.state_dict():\n",
    "    print(param_tensor, \"\\t\", encoder.state_dict()[param_tensor].size())\n",
    "\n",
    "print()"
   ]
  },
  {
   "cell_type": "code",
   "execution_count": 158,
   "metadata": {},
   "outputs": [
    {
     "data": {
      "text/plain": [
       "<All keys matched successfully>"
      ]
     },
     "execution_count": 158,
     "metadata": {},
     "output_type": "execute_result"
    }
   ],
   "source": [
    "vq_model.load_state_dict(torch.load('old_models/vqmodel-FordA.ckpt'))\n",
    "\n"
   ]
  },
  {
   "cell_type": "code",
   "execution_count": 94,
   "metadata": {},
   "outputs": [
    {
     "name": "stdout",
     "output_type": "stream",
     "text": [
      "tensor(3.4748)\n",
      "tensor(-1.5378)\n",
      "tensor(9.2859)\n",
      "-------------\n",
      "tensor(3.0269)\n",
      "tensor(-1.2620)\n",
      "tensor(8.4513)\n",
      "-------------\n",
      "tensor(3.9715)\n",
      "tensor(-2.6926)\n",
      "tensor(13.1570)\n",
      "-------------\n",
      "tensor(2.7962)\n",
      "tensor(-1.7046)\n",
      "tensor(6.9234)\n",
      "-------------\n",
      "tensor(5.9275)\n",
      "tensor(-2.1643)\n",
      "tensor(12.1612)\n",
      "-------------\n",
      "tensor(2.9538)\n",
      "tensor(-1.2534)\n",
      "tensor(7.7247)\n",
      "-------------\n",
      "tensor(3.5966)\n",
      "tensor(-2.2370)\n",
      "tensor(11.5308)\n",
      "-------------\n",
      "tensor(5.3751)\n",
      "tensor(-3.3423)\n",
      "tensor(19.6632)\n",
      "-------------\n",
      "tensor(5.9114)\n",
      "tensor(-3.5278)\n",
      "tensor(18.4416)\n",
      "-------------\n",
      "tensor(6.9601)\n",
      "tensor(-3.5839)\n",
      "tensor(20.6090)\n",
      "-------------\n",
      "tensor(4.1880)\n",
      "tensor(-2.6006)\n",
      "tensor(13.9098)\n",
      "-------------\n",
      "tensor(4.7466)\n",
      "tensor(-2.4345)\n",
      "tensor(13.1898)\n",
      "-------------\n",
      "tensor(2.5578)\n",
      "tensor(-1.9145)\n",
      "tensor(7.9467)\n",
      "-------------\n",
      "tensor(6.1294)\n",
      "tensor(-3.4712)\n",
      "tensor(20.4765)\n",
      "-------------\n",
      "tensor(4.3913)\n",
      "tensor(-2.3702)\n",
      "tensor(14.1580)\n",
      "-------------\n",
      "tensor(4.3634)\n",
      "tensor(-1.9108)\n",
      "tensor(13.0187)\n",
      "-------------\n",
      "tensor(4.9167)\n",
      "tensor(-2.2417)\n",
      "tensor(11.7387)\n",
      "-------------\n",
      "tensor(2.9908)\n",
      "tensor(-1.8028)\n",
      "tensor(9.6695)\n",
      "-------------\n",
      "tensor(2.4598)\n",
      "tensor(-1.4663)\n",
      "tensor(6.6891)\n",
      "-------------\n",
      "tensor(2.3170)\n",
      "tensor(-1.6015)\n",
      "tensor(6.8066)\n",
      "-------------\n",
      "tensor(5.9430)\n",
      "tensor(-2.6067)\n",
      "tensor(14.8431)\n",
      "-------------\n",
      "tensor(2.3857)\n",
      "tensor(-1.7979)\n",
      "tensor(9.3569)\n",
      "-------------\n",
      "tensor(1.1175)\n",
      "tensor(-1.3924)\n",
      "tensor(4.2936)\n",
      "-------------\n",
      "tensor(4.7541)\n",
      "tensor(-2.5931)\n",
      "tensor(13.5921)\n",
      "-------------\n",
      "tensor(4.9097)\n",
      "tensor(-1.5340)\n",
      "tensor(7.7483)\n",
      "-------------\n",
      "tensor(2.6691)\n",
      "tensor(-1.6841)\n",
      "tensor(7.6938)\n",
      "-------------\n",
      "tensor(1.8520)\n",
      "tensor(-1.9172)\n",
      "tensor(7.9777)\n",
      "-------------\n",
      "tensor(7.0554)\n",
      "tensor(-3.1999)\n",
      "tensor(19.1270)\n",
      "-------------\n",
      "tensor(4.2440)\n",
      "tensor(-2.6427)\n",
      "tensor(13.7050)\n",
      "-------------\n",
      "tensor(8.1243)\n",
      "tensor(-4.4440)\n",
      "tensor(24.6354)\n",
      "-------------\n",
      "tensor(0.8164)\n",
      "tensor(-0.9901)\n",
      "tensor(3.6359)\n",
      "-------------\n"
     ]
    }
   ],
   "source": [
    "for i in range(1,32):\n",
    "    print(vq_model.codebook[i,:].max())\n",
    "    print(vq_model.codebook[i,:].min())\n",
    "    print(vq_model.codebook[i,:].norm())\n",
    "    print('-------------')"
   ]
  },
  {
   "cell_type": "code",
   "execution_count": null,
   "metadata": {},
   "outputs": [],
   "source": []
  }
 ],
 "metadata": {
  "kernelspec": {
   "display_name": "Python 3",
   "language": "python",
   "name": "python3"
  },
  "language_info": {
   "codemirror_mode": {
    "name": "ipython",
    "version": 3
   },
   "file_extension": ".py",
   "mimetype": "text/x-python",
   "name": "python",
   "nbconvert_exporter": "python",
   "pygments_lexer": "ipython3",
   "version": "3.11.4"
  }
 },
 "nbformat": 4,
 "nbformat_minor": 2
}
