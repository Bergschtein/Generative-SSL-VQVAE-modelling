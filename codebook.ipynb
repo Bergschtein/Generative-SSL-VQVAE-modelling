{
 "cells": [
  {
   "cell_type": "code",
   "execution_count": 33,
   "metadata": {},
   "outputs": [],
   "source": [
    "from models.stage2.transformers import BidirectionalTransformer\n",
    "from models.stage1.encoder_decoder import VQVAEEncoder, VQVAEDecoder\n",
    "from models.stage1.vq import VectorQuantize\n"
   ]
  },
  {
   "cell_type": "code",
   "execution_count": 37,
   "metadata": {},
   "outputs": [],
   "source": [
    "import torch\n",
    "import numpy as np\n",
    "from preprocessing.data_pipeline import build_data_pipeline\n",
    "\n",
    "from preprocessing.preprocess_ucr import UCRDatasetImporter\n",
    "from pathlib import Path\n",
    "\n",
    "from models.stage2.sample import unconditional_sample, conditional_sample\n",
    "\n",
    "# from evaluation.evaluation import Evaluation\n",
    "from utils import get_root_dir, load_yaml_param_settings, save_model\n",
    "from models.stage2.maskgit import MaskGIT\n",
    "import os\n",
    "import tempfile\n",
    "from evaluation.model_eval import Evaluation\n",
    "import matplotlib.pyplot as plt\n"
   ]
  },
  {
   "cell_type": "code",
   "execution_count": 40,
   "metadata": {},
   "outputs": [
    {
     "name": "stdout",
     "output_type": "stream",
     "text": [
      "self.X_train.shape: (1000, 1024)\n",
      "self.X_test.shape: (8236, 1024)\n",
      "# unique labels (train): [0 1 2]\n",
      "# unique labels (test): [0 1 2]\n"
     ]
    }
   ],
   "source": [
    "config_dir = \"configs/config.yaml\"\n",
    "config = load_yaml_param_settings(config_dir)\n",
    "dataset_name = config[\"dataset\"][\"dataset_name\"]\n",
    "\n",
    "dataset_importer = UCRDatasetImporter(**config[\"dataset\"])\n",
    "batch_size = config[\"dataset\"][\"batch_sizes\"][\"stage2\"]\n",
    "train_data_loader, test_data_loader = [\n",
    "    build_data_pipeline(batch_size, dataset_importer, config, kind)\n",
    "    for kind in [\"train\", \"test\"]\n",
    "]\n",
    "\n",
    "input_length = train_data_loader.dataset.X.shape[-1]\n",
    "n_classes = len(np.unique(train_data_loader.dataset.Y.flatten()))\n",
    "device = torch.device(\"cuda\" if torch.cuda.is_available() else \"cpu\")\n",
    "\n",
    "\n",
    "dim = config[\"encoder\"][\"dim\"]\n",
    "in_channels = config[\"dataset\"][\"in_channels\"]\n",
    "downsampled_width = config[\"encoder\"][\"downsampled_width\"]\n",
    "n_fft = config[\"VQVAE\"][\"n_fft\"]\n",
    "\n",
    "downsample_rate = 1\n",
    "\n",
    "# def compute_downsample_rate(input_length: int, n_fft: int, downsampled_width: int):\n",
    "#     return (\n",
    "#         round(input_length / (np.log2(n_fft) - 1) / downsampled_width)\n",
    "#         if input_length >= downsampled_width\n",
    "#         else 1\n",
    "#     )\n",
    "# downsample_rate = compute_downsample_rate(\n",
    "#     input_length, n_fft, downsampled_width\n",
    "# )\n"
   ]
  },
  {
   "cell_type": "code",
   "execution_count": 35,
   "metadata": {},
   "outputs": [],
   "source": [
    "from stage2 import load_args\n"
   ]
  },
  {
   "cell_type": "code",
   "execution_count": 41,
   "metadata": {},
   "outputs": [
    {
     "name": "stdout",
     "output_type": "stream",
     "text": [
      "1\n"
     ]
    }
   ],
   "source": [
    "encoder = VQVAEEncoder(\n",
    "    dim, 2 * in_channels, downsample_rate, config[\"encoder\"][\"n_resnet_blocks\"]\n",
    ")\n",
    "decoder = VQVAEDecoder(\n",
    "    dim, 2 * in_channels, downsample_rate, config[\"decoder\"][\"n_resnet_blocks\"]\n",
    ")\n",
    "vq_model = VectorQuantize(\n",
    "    dim, config[\"VQVAE\"][\"codebook\"][\"size\"], **config[\"VQVAE\"]\n",
    ")"
   ]
  },
  {
   "cell_type": "code",
   "execution_count": 47,
   "metadata": {},
   "outputs": [
    {
     "ename": "RuntimeError",
     "evalue": "Error(s) in loading state_dict for VQVAEDecoder:\n\tMissing key(s) in state_dict: \"decoder.4.weight\", \"decoder.4.bias\", \"decoder.5.weight\", \"decoder.5.bias\". \n\tUnexpected key(s) in state_dict: \"decoder.6.block.0.weight\", \"decoder.6.block.0.bias\", \"decoder.6.block.1.weight\", \"decoder.6.block.1.bias\", \"decoder.6.block.1.running_mean\", \"decoder.6.block.1.running_var\", \"decoder.6.block.1.num_batches_tracked\", \"decoder.7.block.0.weight\", \"decoder.7.block.0.bias\", \"decoder.7.block.1.weight\", \"decoder.7.block.1.bias\", \"decoder.7.block.1.running_mean\", \"decoder.7.block.1.running_var\", \"decoder.7.block.1.num_batches_tracked\", \"decoder.8.block.0.weight\", \"decoder.8.block.0.bias\", \"decoder.8.block.1.weight\", \"decoder.8.block.1.bias\", \"decoder.8.block.1.running_mean\", \"decoder.8.block.1.running_var\", \"decoder.8.block.1.num_batches_tracked\", \"decoder.9.weight\", \"decoder.9.bias\", \"decoder.10.weight\", \"decoder.10.bias\", \"decoder.4.block.0.weight\", \"decoder.4.block.0.bias\", \"decoder.4.block.1.weight\", \"decoder.4.block.1.bias\", \"decoder.4.block.1.running_mean\", \"decoder.4.block.1.running_var\", \"decoder.4.block.1.num_batches_tracked\", \"decoder.5.block.0.weight\", \"decoder.5.block.0.bias\", \"decoder.5.block.1.weight\", \"decoder.5.block.1.bias\", \"decoder.5.block.1.running_mean\", \"decoder.5.block.1.running_var\", \"decoder.5.block.1.num_batches_tracked\". ",
     "output_type": "error",
     "traceback": [
      "\u001b[0;31m---------------------------------------------------------------------------\u001b[0m",
      "\u001b[0;31mRuntimeError\u001b[0m                              Traceback (most recent call last)",
      "Cell \u001b[0;32mIn[47], line 1\u001b[0m\n\u001b[0;32m----> 1\u001b[0m \u001b[43mdecoder\u001b[49m\u001b[38;5;241;43m.\u001b[39;49m\u001b[43mload_state_dict\u001b[49m\u001b[43m(\u001b[49m\u001b[43mtorch\u001b[49m\u001b[38;5;241;43m.\u001b[39;49m\u001b[43mload\u001b[49m\u001b[43m(\u001b[49m\u001b[38;5;124;43m'\u001b[39;49m\u001b[38;5;124;43msaved_models_old/decoder-StarLightCurves.ckpt\u001b[39;49m\u001b[38;5;124;43m'\u001b[39;49m\u001b[43m)\u001b[49m\u001b[43m)\u001b[49m\n",
      "File \u001b[0;32m~/Desktop/Fag/Matematikk/Master/Generative-SSL-VQVAE-modelling/.venv/lib/python3.11/site-packages/torch/nn/modules/module.py:2153\u001b[0m, in \u001b[0;36mModule.load_state_dict\u001b[0;34m(self, state_dict, strict, assign)\u001b[0m\n\u001b[1;32m   2148\u001b[0m         error_msgs\u001b[38;5;241m.\u001b[39minsert(\n\u001b[1;32m   2149\u001b[0m             \u001b[38;5;241m0\u001b[39m, \u001b[38;5;124m'\u001b[39m\u001b[38;5;124mMissing key(s) in state_dict: \u001b[39m\u001b[38;5;132;01m{}\u001b[39;00m\u001b[38;5;124m. \u001b[39m\u001b[38;5;124m'\u001b[39m\u001b[38;5;241m.\u001b[39mformat(\n\u001b[1;32m   2150\u001b[0m                 \u001b[38;5;124m'\u001b[39m\u001b[38;5;124m, \u001b[39m\u001b[38;5;124m'\u001b[39m\u001b[38;5;241m.\u001b[39mjoin(\u001b[38;5;124mf\u001b[39m\u001b[38;5;124m'\u001b[39m\u001b[38;5;124m\"\u001b[39m\u001b[38;5;132;01m{\u001b[39;00mk\u001b[38;5;132;01m}\u001b[39;00m\u001b[38;5;124m\"\u001b[39m\u001b[38;5;124m'\u001b[39m \u001b[38;5;28;01mfor\u001b[39;00m k \u001b[38;5;129;01min\u001b[39;00m missing_keys)))\n\u001b[1;32m   2152\u001b[0m \u001b[38;5;28;01mif\u001b[39;00m \u001b[38;5;28mlen\u001b[39m(error_msgs) \u001b[38;5;241m>\u001b[39m \u001b[38;5;241m0\u001b[39m:\n\u001b[0;32m-> 2153\u001b[0m     \u001b[38;5;28;01mraise\u001b[39;00m \u001b[38;5;167;01mRuntimeError\u001b[39;00m(\u001b[38;5;124m'\u001b[39m\u001b[38;5;124mError(s) in loading state_dict for \u001b[39m\u001b[38;5;132;01m{}\u001b[39;00m\u001b[38;5;124m:\u001b[39m\u001b[38;5;130;01m\\n\u001b[39;00m\u001b[38;5;130;01m\\t\u001b[39;00m\u001b[38;5;132;01m{}\u001b[39;00m\u001b[38;5;124m'\u001b[39m\u001b[38;5;241m.\u001b[39mformat(\n\u001b[1;32m   2154\u001b[0m                        \u001b[38;5;28mself\u001b[39m\u001b[38;5;241m.\u001b[39m\u001b[38;5;18m__class__\u001b[39m\u001b[38;5;241m.\u001b[39m\u001b[38;5;18m__name__\u001b[39m, \u001b[38;5;124m\"\u001b[39m\u001b[38;5;130;01m\\n\u001b[39;00m\u001b[38;5;130;01m\\t\u001b[39;00m\u001b[38;5;124m\"\u001b[39m\u001b[38;5;241m.\u001b[39mjoin(error_msgs)))\n\u001b[1;32m   2155\u001b[0m \u001b[38;5;28;01mreturn\u001b[39;00m _IncompatibleKeys(missing_keys, unexpected_keys)\n",
      "\u001b[0;31mRuntimeError\u001b[0m: Error(s) in loading state_dict for VQVAEDecoder:\n\tMissing key(s) in state_dict: \"decoder.4.weight\", \"decoder.4.bias\", \"decoder.5.weight\", \"decoder.5.bias\". \n\tUnexpected key(s) in state_dict: \"decoder.6.block.0.weight\", \"decoder.6.block.0.bias\", \"decoder.6.block.1.weight\", \"decoder.6.block.1.bias\", \"decoder.6.block.1.running_mean\", \"decoder.6.block.1.running_var\", \"decoder.6.block.1.num_batches_tracked\", \"decoder.7.block.0.weight\", \"decoder.7.block.0.bias\", \"decoder.7.block.1.weight\", \"decoder.7.block.1.bias\", \"decoder.7.block.1.running_mean\", \"decoder.7.block.1.running_var\", \"decoder.7.block.1.num_batches_tracked\", \"decoder.8.block.0.weight\", \"decoder.8.block.0.bias\", \"decoder.8.block.1.weight\", \"decoder.8.block.1.bias\", \"decoder.8.block.1.running_mean\", \"decoder.8.block.1.running_var\", \"decoder.8.block.1.num_batches_tracked\", \"decoder.9.weight\", \"decoder.9.bias\", \"decoder.10.weight\", \"decoder.10.bias\", \"decoder.4.block.0.weight\", \"decoder.4.block.0.bias\", \"decoder.4.block.1.weight\", \"decoder.4.block.1.bias\", \"decoder.4.block.1.running_mean\", \"decoder.4.block.1.running_var\", \"decoder.4.block.1.num_batches_tracked\", \"decoder.5.block.0.weight\", \"decoder.5.block.0.bias\", \"decoder.5.block.1.weight\", \"decoder.5.block.1.bias\", \"decoder.5.block.1.running_mean\", \"decoder.5.block.1.running_var\", \"decoder.5.block.1.num_batches_tracked\". "
     ]
    }
   ],
   "source": [
    "decoder.load_state_dict(torch.load('saved_models_old/decoder-StarLightCurves.ckpt'))\n",
    "\n",
    "\n"
   ]
  },
  {
   "cell_type": "code",
   "execution_count": 46,
   "metadata": {},
   "outputs": [
    {
     "ename": "RuntimeError",
     "evalue": "Error(s) in loading state_dict for VQVAEEncoder:\n\tMissing key(s) in state_dict: \"encoder.1.0.convs.1.weight\", \"encoder.1.0.convs.1.bias\", \"encoder.1.0.convs.2.weight\", \"encoder.1.0.convs.2.bias\", \"encoder.1.0.convs.2.running_mean\", \"encoder.1.0.convs.2.running_var\", \"encoder.1.0.convs.5.weight\", \"encoder.1.0.convs.5.bias\", \"encoder.1.1.weight\", \"encoder.1.1.bias\", \"encoder.1.1.running_mean\", \"encoder.1.1.running_var\", \"encoder.2.0.convs.1.weight\", \"encoder.2.0.convs.1.bias\", \"encoder.2.0.convs.2.weight\", \"encoder.2.0.convs.2.bias\", \"encoder.2.0.convs.2.running_mean\", \"encoder.2.0.convs.2.running_var\", \"encoder.2.0.convs.5.weight\", \"encoder.2.0.convs.5.bias\", \"encoder.2.1.weight\", \"encoder.2.1.bias\", \"encoder.2.1.running_mean\", \"encoder.2.1.running_var\", \"encoder.3.0.convs.1.weight\", \"encoder.3.0.convs.1.bias\", \"encoder.3.0.convs.2.weight\", \"encoder.3.0.convs.2.bias\", \"encoder.3.0.convs.2.running_mean\", \"encoder.3.0.convs.2.running_var\", \"encoder.3.0.convs.5.weight\", \"encoder.3.0.convs.5.bias\", \"encoder.3.1.weight\", \"encoder.3.1.bias\", \"encoder.3.1.running_mean\", \"encoder.3.1.running_var\", \"encoder.4.0.convs.1.weight\", \"encoder.4.0.convs.1.bias\", \"encoder.4.0.convs.2.weight\", \"encoder.4.0.convs.2.bias\", \"encoder.4.0.convs.2.running_mean\", \"encoder.4.0.convs.2.running_var\", \"encoder.4.0.convs.5.weight\", \"encoder.4.0.convs.5.bias\", \"encoder.4.1.weight\", \"encoder.4.1.bias\", \"encoder.4.1.running_mean\", \"encoder.4.1.running_var\". \n\tUnexpected key(s) in state_dict: \"encoder.5.block.0.weight\", \"encoder.5.block.0.bias\", \"encoder.5.block.1.weight\", \"encoder.5.block.1.bias\", \"encoder.5.block.1.running_mean\", \"encoder.5.block.1.running_var\", \"encoder.5.block.1.num_batches_tracked\", \"encoder.6.0.convs.1.weight\", \"encoder.6.0.convs.1.bias\", \"encoder.6.0.convs.2.weight\", \"encoder.6.0.convs.2.bias\", \"encoder.6.0.convs.2.running_mean\", \"encoder.6.0.convs.2.running_var\", \"encoder.6.0.convs.2.num_batches_tracked\", \"encoder.6.0.convs.5.weight\", \"encoder.6.0.convs.5.bias\", \"encoder.6.1.weight\", \"encoder.6.1.bias\", \"encoder.6.1.running_mean\", \"encoder.6.1.running_var\", \"encoder.6.1.num_batches_tracked\", \"encoder.7.0.convs.1.weight\", \"encoder.7.0.convs.1.bias\", \"encoder.7.0.convs.2.weight\", \"encoder.7.0.convs.2.bias\", \"encoder.7.0.convs.2.running_mean\", \"encoder.7.0.convs.2.running_var\", \"encoder.7.0.convs.2.num_batches_tracked\", \"encoder.7.0.convs.5.weight\", \"encoder.7.0.convs.5.bias\", \"encoder.7.1.weight\", \"encoder.7.1.bias\", \"encoder.7.1.running_mean\", \"encoder.7.1.running_var\", \"encoder.7.1.num_batches_tracked\", \"encoder.8.0.convs.1.weight\", \"encoder.8.0.convs.1.bias\", \"encoder.8.0.convs.2.weight\", \"encoder.8.0.convs.2.bias\", \"encoder.8.0.convs.2.running_mean\", \"encoder.8.0.convs.2.running_var\", \"encoder.8.0.convs.2.num_batches_tracked\", \"encoder.8.0.convs.5.weight\", \"encoder.8.0.convs.5.bias\", \"encoder.8.1.weight\", \"encoder.8.1.bias\", \"encoder.8.1.running_mean\", \"encoder.8.1.running_var\", \"encoder.8.1.num_batches_tracked\", \"encoder.9.0.convs.1.weight\", \"encoder.9.0.convs.1.bias\", \"encoder.9.0.convs.2.weight\", \"encoder.9.0.convs.2.bias\", \"encoder.9.0.convs.2.running_mean\", \"encoder.9.0.convs.2.running_var\", \"encoder.9.0.convs.2.num_batches_tracked\", \"encoder.9.0.convs.5.weight\", \"encoder.9.0.convs.5.bias\", \"encoder.9.1.weight\", \"encoder.9.1.bias\", \"encoder.9.1.running_mean\", \"encoder.9.1.running_var\", \"encoder.9.1.num_batches_tracked\", \"encoder.1.block.0.weight\", \"encoder.1.block.0.bias\", \"encoder.1.block.1.weight\", \"encoder.1.block.1.bias\", \"encoder.1.block.1.running_mean\", \"encoder.1.block.1.running_var\", \"encoder.1.block.1.num_batches_tracked\", \"encoder.2.block.0.weight\", \"encoder.2.block.0.bias\", \"encoder.2.block.1.weight\", \"encoder.2.block.1.bias\", \"encoder.2.block.1.running_mean\", \"encoder.2.block.1.running_var\", \"encoder.2.block.1.num_batches_tracked\", \"encoder.3.block.0.weight\", \"encoder.3.block.0.bias\", \"encoder.3.block.1.weight\", \"encoder.3.block.1.bias\", \"encoder.3.block.1.running_mean\", \"encoder.3.block.1.running_var\", \"encoder.3.block.1.num_batches_tracked\", \"encoder.4.block.0.weight\", \"encoder.4.block.0.bias\", \"encoder.4.block.1.weight\", \"encoder.4.block.1.bias\", \"encoder.4.block.1.running_mean\", \"encoder.4.block.1.running_var\", \"encoder.4.block.1.num_batches_tracked\". ",
     "output_type": "error",
     "traceback": [
      "\u001b[0;31m---------------------------------------------------------------------------\u001b[0m",
      "\u001b[0;31mRuntimeError\u001b[0m                              Traceback (most recent call last)",
      "Cell \u001b[0;32mIn[46], line 1\u001b[0m\n\u001b[0;32m----> 1\u001b[0m \u001b[43mencoder\u001b[49m\u001b[38;5;241;43m.\u001b[39;49m\u001b[43mload_state_dict\u001b[49m\u001b[43m(\u001b[49m\u001b[43mtorch\u001b[49m\u001b[38;5;241;43m.\u001b[39;49m\u001b[43mload\u001b[49m\u001b[43m(\u001b[49m\u001b[38;5;124;43m'\u001b[39;49m\u001b[38;5;124;43msaved_models_old/encoder-StarLightCurves.ckpt\u001b[39;49m\u001b[38;5;124;43m'\u001b[39;49m\u001b[43m)\u001b[49m\u001b[43m)\u001b[49m\n\u001b[1;32m      3\u001b[0m \u001b[38;5;66;03m# def load(model, dirname, fname):\u001b[39;00m\n\u001b[1;32m      4\u001b[0m \u001b[38;5;66;03m#     \"\"\"\u001b[39;00m\n\u001b[1;32m      5\u001b[0m \u001b[38;5;66;03m#     model: instance\u001b[39;00m\n\u001b[0;32m   (...)\u001b[0m\n\u001b[1;32m     13\u001b[0m \u001b[38;5;66;03m#         dirname = Path(tempfile.gettempdir())\u001b[39;00m\n\u001b[1;32m     14\u001b[0m \u001b[38;5;66;03m#         model.load_state_dict(torch.load(dirname.joinpath(fname)))\u001b[39;00m\n",
      "File \u001b[0;32m~/Desktop/Fag/Matematikk/Master/Generative-SSL-VQVAE-modelling/.venv/lib/python3.11/site-packages/torch/nn/modules/module.py:2153\u001b[0m, in \u001b[0;36mModule.load_state_dict\u001b[0;34m(self, state_dict, strict, assign)\u001b[0m\n\u001b[1;32m   2148\u001b[0m         error_msgs\u001b[38;5;241m.\u001b[39minsert(\n\u001b[1;32m   2149\u001b[0m             \u001b[38;5;241m0\u001b[39m, \u001b[38;5;124m'\u001b[39m\u001b[38;5;124mMissing key(s) in state_dict: \u001b[39m\u001b[38;5;132;01m{}\u001b[39;00m\u001b[38;5;124m. \u001b[39m\u001b[38;5;124m'\u001b[39m\u001b[38;5;241m.\u001b[39mformat(\n\u001b[1;32m   2150\u001b[0m                 \u001b[38;5;124m'\u001b[39m\u001b[38;5;124m, \u001b[39m\u001b[38;5;124m'\u001b[39m\u001b[38;5;241m.\u001b[39mjoin(\u001b[38;5;124mf\u001b[39m\u001b[38;5;124m'\u001b[39m\u001b[38;5;124m\"\u001b[39m\u001b[38;5;132;01m{\u001b[39;00mk\u001b[38;5;132;01m}\u001b[39;00m\u001b[38;5;124m\"\u001b[39m\u001b[38;5;124m'\u001b[39m \u001b[38;5;28;01mfor\u001b[39;00m k \u001b[38;5;129;01min\u001b[39;00m missing_keys)))\n\u001b[1;32m   2152\u001b[0m \u001b[38;5;28;01mif\u001b[39;00m \u001b[38;5;28mlen\u001b[39m(error_msgs) \u001b[38;5;241m>\u001b[39m \u001b[38;5;241m0\u001b[39m:\n\u001b[0;32m-> 2153\u001b[0m     \u001b[38;5;28;01mraise\u001b[39;00m \u001b[38;5;167;01mRuntimeError\u001b[39;00m(\u001b[38;5;124m'\u001b[39m\u001b[38;5;124mError(s) in loading state_dict for \u001b[39m\u001b[38;5;132;01m{}\u001b[39;00m\u001b[38;5;124m:\u001b[39m\u001b[38;5;130;01m\\n\u001b[39;00m\u001b[38;5;130;01m\\t\u001b[39;00m\u001b[38;5;132;01m{}\u001b[39;00m\u001b[38;5;124m'\u001b[39m\u001b[38;5;241m.\u001b[39mformat(\n\u001b[1;32m   2154\u001b[0m                        \u001b[38;5;28mself\u001b[39m\u001b[38;5;241m.\u001b[39m\u001b[38;5;18m__class__\u001b[39m\u001b[38;5;241m.\u001b[39m\u001b[38;5;18m__name__\u001b[39m, \u001b[38;5;124m\"\u001b[39m\u001b[38;5;130;01m\\n\u001b[39;00m\u001b[38;5;130;01m\\t\u001b[39;00m\u001b[38;5;124m\"\u001b[39m\u001b[38;5;241m.\u001b[39mjoin(error_msgs)))\n\u001b[1;32m   2155\u001b[0m \u001b[38;5;28;01mreturn\u001b[39;00m _IncompatibleKeys(missing_keys, unexpected_keys)\n",
      "\u001b[0;31mRuntimeError\u001b[0m: Error(s) in loading state_dict for VQVAEEncoder:\n\tMissing key(s) in state_dict: \"encoder.1.0.convs.1.weight\", \"encoder.1.0.convs.1.bias\", \"encoder.1.0.convs.2.weight\", \"encoder.1.0.convs.2.bias\", \"encoder.1.0.convs.2.running_mean\", \"encoder.1.0.convs.2.running_var\", \"encoder.1.0.convs.5.weight\", \"encoder.1.0.convs.5.bias\", \"encoder.1.1.weight\", \"encoder.1.1.bias\", \"encoder.1.1.running_mean\", \"encoder.1.1.running_var\", \"encoder.2.0.convs.1.weight\", \"encoder.2.0.convs.1.bias\", \"encoder.2.0.convs.2.weight\", \"encoder.2.0.convs.2.bias\", \"encoder.2.0.convs.2.running_mean\", \"encoder.2.0.convs.2.running_var\", \"encoder.2.0.convs.5.weight\", \"encoder.2.0.convs.5.bias\", \"encoder.2.1.weight\", \"encoder.2.1.bias\", \"encoder.2.1.running_mean\", \"encoder.2.1.running_var\", \"encoder.3.0.convs.1.weight\", \"encoder.3.0.convs.1.bias\", \"encoder.3.0.convs.2.weight\", \"encoder.3.0.convs.2.bias\", \"encoder.3.0.convs.2.running_mean\", \"encoder.3.0.convs.2.running_var\", \"encoder.3.0.convs.5.weight\", \"encoder.3.0.convs.5.bias\", \"encoder.3.1.weight\", \"encoder.3.1.bias\", \"encoder.3.1.running_mean\", \"encoder.3.1.running_var\", \"encoder.4.0.convs.1.weight\", \"encoder.4.0.convs.1.bias\", \"encoder.4.0.convs.2.weight\", \"encoder.4.0.convs.2.bias\", \"encoder.4.0.convs.2.running_mean\", \"encoder.4.0.convs.2.running_var\", \"encoder.4.0.convs.5.weight\", \"encoder.4.0.convs.5.bias\", \"encoder.4.1.weight\", \"encoder.4.1.bias\", \"encoder.4.1.running_mean\", \"encoder.4.1.running_var\". \n\tUnexpected key(s) in state_dict: \"encoder.5.block.0.weight\", \"encoder.5.block.0.bias\", \"encoder.5.block.1.weight\", \"encoder.5.block.1.bias\", \"encoder.5.block.1.running_mean\", \"encoder.5.block.1.running_var\", \"encoder.5.block.1.num_batches_tracked\", \"encoder.6.0.convs.1.weight\", \"encoder.6.0.convs.1.bias\", \"encoder.6.0.convs.2.weight\", \"encoder.6.0.convs.2.bias\", \"encoder.6.0.convs.2.running_mean\", \"encoder.6.0.convs.2.running_var\", \"encoder.6.0.convs.2.num_batches_tracked\", \"encoder.6.0.convs.5.weight\", \"encoder.6.0.convs.5.bias\", \"encoder.6.1.weight\", \"encoder.6.1.bias\", \"encoder.6.1.running_mean\", \"encoder.6.1.running_var\", \"encoder.6.1.num_batches_tracked\", \"encoder.7.0.convs.1.weight\", \"encoder.7.0.convs.1.bias\", \"encoder.7.0.convs.2.weight\", \"encoder.7.0.convs.2.bias\", \"encoder.7.0.convs.2.running_mean\", \"encoder.7.0.convs.2.running_var\", \"encoder.7.0.convs.2.num_batches_tracked\", \"encoder.7.0.convs.5.weight\", \"encoder.7.0.convs.5.bias\", \"encoder.7.1.weight\", \"encoder.7.1.bias\", \"encoder.7.1.running_mean\", \"encoder.7.1.running_var\", \"encoder.7.1.num_batches_tracked\", \"encoder.8.0.convs.1.weight\", \"encoder.8.0.convs.1.bias\", \"encoder.8.0.convs.2.weight\", \"encoder.8.0.convs.2.bias\", \"encoder.8.0.convs.2.running_mean\", \"encoder.8.0.convs.2.running_var\", \"encoder.8.0.convs.2.num_batches_tracked\", \"encoder.8.0.convs.5.weight\", \"encoder.8.0.convs.5.bias\", \"encoder.8.1.weight\", \"encoder.8.1.bias\", \"encoder.8.1.running_mean\", \"encoder.8.1.running_var\", \"encoder.8.1.num_batches_tracked\", \"encoder.9.0.convs.1.weight\", \"encoder.9.0.convs.1.bias\", \"encoder.9.0.convs.2.weight\", \"encoder.9.0.convs.2.bias\", \"encoder.9.0.convs.2.running_mean\", \"encoder.9.0.convs.2.running_var\", \"encoder.9.0.convs.2.num_batches_tracked\", \"encoder.9.0.convs.5.weight\", \"encoder.9.0.convs.5.bias\", \"encoder.9.1.weight\", \"encoder.9.1.bias\", \"encoder.9.1.running_mean\", \"encoder.9.1.running_var\", \"encoder.9.1.num_batches_tracked\", \"encoder.1.block.0.weight\", \"encoder.1.block.0.bias\", \"encoder.1.block.1.weight\", \"encoder.1.block.1.bias\", \"encoder.1.block.1.running_mean\", \"encoder.1.block.1.running_var\", \"encoder.1.block.1.num_batches_tracked\", \"encoder.2.block.0.weight\", \"encoder.2.block.0.bias\", \"encoder.2.block.1.weight\", \"encoder.2.block.1.bias\", \"encoder.2.block.1.running_mean\", \"encoder.2.block.1.running_var\", \"encoder.2.block.1.num_batches_tracked\", \"encoder.3.block.0.weight\", \"encoder.3.block.0.bias\", \"encoder.3.block.1.weight\", \"encoder.3.block.1.bias\", \"encoder.3.block.1.running_mean\", \"encoder.3.block.1.running_var\", \"encoder.3.block.1.num_batches_tracked\", \"encoder.4.block.0.weight\", \"encoder.4.block.0.bias\", \"encoder.4.block.1.weight\", \"encoder.4.block.1.bias\", \"encoder.4.block.1.running_mean\", \"encoder.4.block.1.running_var\", \"encoder.4.block.1.num_batches_tracked\". "
     ]
    }
   ],
   "source": [
    "encoder.load_state_dict(torch.load('saved_models_old/encoder-StarLightCurves.ckpt'))\n",
    "\n",
    "# def load(model, dirname, fname):\n",
    "#     \"\"\"\n",
    "#     model: instance\n",
    "#     path_to_saved_model_fname: path to the ckpt file (i.e., trained model)\n",
    "#     \"\"\"\n",
    "#     print(dirname)\n",
    "#     print(fname)\n",
    "#     try:\n",
    "#         model.load_state_dict(torch.load(dirname.joinpath(fname)))\n",
    "#     except FileNotFoundError:\n",
    "#         dirname = Path(tempfile.gettempdir())\n",
    "#         model.load_state_dict(torch.load(dirname.joinpath(fname)))"
   ]
  },
  {
   "cell_type": "code",
   "execution_count": null,
   "metadata": {},
   "outputs": [],
   "source": []
  }
 ],
 "metadata": {
  "kernelspec": {
   "display_name": "Python 3",
   "language": "python",
   "name": "python3"
  },
  "language_info": {
   "codemirror_mode": {
    "name": "ipython",
    "version": 3
   },
   "file_extension": ".py",
   "mimetype": "text/x-python",
   "name": "python",
   "nbconvert_exporter": "python",
   "pygments_lexer": "ipython3",
   "version": "3.11.4"
  }
 },
 "nbformat": 4,
 "nbformat_minor": 2
}
